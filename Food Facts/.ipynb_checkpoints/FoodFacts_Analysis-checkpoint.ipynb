{
 "cells": [
  {
   "cell_type": "code",
   "execution_count": null,
   "metadata": {
    "collapsed": true
   },
   "outputs": [],
   "source": [
    "import pandas as pd\n",
    "import numpy as np\n",
    "import matplotlib.pyplot as plt\n",
    "%matplotlib inline\n"
   ]
  },
  {
   "cell_type": "code",
   "execution_count": null,
   "metadata": {
    "collapsed": true
   },
   "outputs": [],
   "source": [
    "## Explore Dataset"
   ]
  },
  {
   "cell_type": "code",
   "execution_count": null,
   "metadata": {
    "collapsed": true
   },
   "outputs": [],
   "source": [
    "# Import .csv file\n",
    "foodFactData = pd.read_csv('../input/FoodFacts.csv',low_memory=False);\n",
    "print(foodFactData.shape);"
   ]
  },
  {
   "cell_type": "code",
   "execution_count": null,
   "metadata": {
    "collapsed": true
   },
   "outputs": [],
   "source": [
    "#### Number of rows : 65502 (no. of products)\n",
    "#### Number of colums: 159 (attributes)"
   ]
  },
  {
   "cell_type": "code",
   "execution_count": null,
   "metadata": {
    "collapsed": true
   },
   "outputs": [],
   "source": [
    "### First let explore data using 'countries' attribute\n",
    "\n",
    "##### Unique countries in data"
   ]
  },
  {
   "cell_type": "code",
   "execution_count": null,
   "metadata": {
    "collapsed": true
   },
   "outputs": [],
   "source": [
    "# Now plot the frequencies of the country in dataset\n",
    "plt.figure(figsize=(12,8))\n",
    "foodFactData.countries.value_counts(normalize=True).head(10).plot(kind='bar')"
   ]
  },
  {
   "cell_type": "code",
   "execution_count": null,
   "metadata": {
    "collapsed": true
   },
   "outputs": [],
   "source": [
    "#As we observe that *France* and *en:FR* both are same , one is country name and other seems to be code or shortened name so we need to change en:FR to France to remove such duplicacy.\n",
    "#Similarly we change in some more data which occur frequently *us* to *united states* , *holland* to *netherlands* etc."
   ]
  },
  {
   "cell_type": "code",
   "execution_count": null,
   "metadata": {
    "collapsed": true
   },
   "outputs": [],
   "source": [
    "foodFactData.countries=foodFactData.countries.str.lower()\n",
    "foodFactData.loc[foodFactData['countries'] == 'en:fr', 'countries'] = 'france'\n",
    "foodFactData.loc[foodFactData['countries'] == 'en:es', 'countries'] = 'spain'\n",
    "foodFactData.loc[foodFactData['countries'] == 'en:gb', 'countries']='united kingdom'\n",
    "foodFactData.loc[foodFactData['countries'] == 'en:uk', 'countries']='united kingdom'\n",
    "foodFactData.loc[foodFactData['countries'] == 'holland','countries']='netherlands'\n",
    "foodFactData.loc[foodFactData['countries'] == 'españa','countries']='spain'\n",
    "foodFactData.loc[foodFactData['countries'] == 'us','countries']='united states'\n",
    "foodFactData.loc[foodFactData['countries'] == 'en:us','countries']='united states'\n",
    "foodFactData.loc[foodFactData['countries'] == 'usa','countries']='united states'\n",
    "foodFactData.loc[foodFactData['countries'] == 'en:cn','countries']='canada'\n",
    "foodFactData.loc[foodFactData['countries'] == 'en:au','countries']='australia'\n",
    "foodFactData.loc[foodFactData['countries'] == 'en:de','countries']='germany'\n",
    "foodFactData.loc[foodFactData['countries'] == 'deutschland','countries']='germany'\n",
    "foodFactData.loc[foodFactData['countries'] == 'en:cn','countries']='china'\n",
    "foodFactData.loc[foodFactData['countries'] == 'en:be','countries']='belgium'\n",
    "foodFactData.loc[foodFactData['countries'] == 'en:ch','countries']='switzerland'"
   ]
  },
  {
   "cell_type": "code",
   "execution_count": null,
   "metadata": {
    "collapsed": true
   },
   "outputs": [],
   "source": [
    "# For better visualization purpose , import seaborn library\n",
    "import seaborn as sns"
   ]
  },
  {
   "cell_type": "code",
   "execution_count": null,
   "metadata": {
    "collapsed": true
   },
   "outputs": [],
   "source": [
    "fig=plt.figure(figsize=(12,8))\n",
    "ax1 = fig.add_subplot(1,1,1)\n",
    "# Now plot possibly top five countries in this dataset\n",
    "foodFactData.countries.value_counts(normalize=True).head().plot(kind='bar')"
   ]
  },
  {
   "cell_type": "code",
   "execution_count": null,
   "metadata": {
    "collapsed": true
   },
   "outputs": [],
   "source": [
    "foodFactData[foodFactData['countries'] == 'france'].countries.value_counts()"
   ]
  },
  {
   "cell_type": "code",
   "execution_count": null,
   "metadata": {
    "collapsed": true
   },
   "outputs": [],
   "source": [
    "##### Majority of the Product in this data sold in France "
   ]
  },
  {
   "cell_type": "code",
   "execution_count": null,
   "metadata": {
    "collapsed": true
   },
   "outputs": [],
   "source": [
    "## Explore other attributes "
   ]
  },
  {
   "cell_type": "code",
   "execution_count": null,
   "metadata": {
    "collapsed": true
   },
   "outputs": [],
   "source": [
    "### Order of top 5 countries in consuming Fruits and Vegetables "
   ]
  },
  {
   "cell_type": "code",
   "execution_count": null,
   "metadata": {
    "collapsed": true
   },
   "outputs": [],
   "source": [
    "top_countries = ['france','united kingdom','spain','germany','united states' ]\n",
    "fruits_vegetables_nuts=[]\n",
    "# Loop through all top five countries \n",
    "for country in top_countries:\n",
    "    fruits_vegetables_nuts.append(getattr(foodFactData[foodFactData.countries==country], 'fruits_vegetables_nuts_100g').mean())"
   ]
  },
  {
   "cell_type": "code",
   "execution_count": null,
   "metadata": {
    "collapsed": true
   },
   "outputs": [],
   "source": []
  },
  {
   "cell_type": "code",
   "execution_count": null,
   "metadata": {
    "collapsed": true
   },
   "outputs": [],
   "source": []
  },
  {
   "cell_type": "code",
   "execution_count": null,
   "metadata": {
    "collapsed": true
   },
   "outputs": [],
   "source": []
  },
  {
   "cell_type": "code",
   "execution_count": null,
   "metadata": {
    "collapsed": true
   },
   "outputs": [],
   "source": []
  }
 ],
 "metadata": {
  "kernelspec": {
   "display_name": "Python 3",
   "language": "python",
   "name": "python3"
  },
  "language_info": {
   "codemirror_mode": {
    "name": "ipython",
    "version": 3
   },
   "file_extension": ".py",
   "mimetype": "text/x-python",
   "name": "python",
   "nbconvert_exporter": "python",
   "pygments_lexer": "ipython3",
   "version": "3.5.1"
  }
 },
 "nbformat": 4,
 "nbformat_minor": 0
}
